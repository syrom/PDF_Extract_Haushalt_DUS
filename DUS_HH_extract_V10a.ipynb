{
 "cells": [
  {
   "cell_type": "markdown",
   "metadata": {},
   "source": [
    "\n",
    "# 0) Versioning"
   ]
  },
  {
   "cell_type": "markdown",
   "metadata": {},
   "source": [
    "#### V10a: First attempt on entire DUS-budget !\n",
    "\n",
    "#### V04b: further evolution: \"Wert\" vs. \"Ergebnis\" now added plus MELT instead of UNSTACK to establish long format\n",
    "\n",
    "##### V04a: final shape processing (long format) and enrichment before saving the result; tbc if alreay elimination of part-sums or flagging thru data enrichment (e.g. \"data point\" vs. \"data aggregated\" or \"Wert\" vs. \"Ergebnis\").\n",
    "\n",
    "##### V03a: Looping table extraction over all pages defined in the control structure, coming up with total data from document >> will require final enrichment (Plan-Info) and transformation (pivot for long format) before saving result\n",
    "\n",
    "##### V02b:\n",
    "\n",
    "##### V02a: starting to extract tables from relevant pages based on establishe control structure\n",
    "\n",
    "##### V01b: starting to establish control structure for table extraction\n",
    "\n",
    "##### V01a: first version extracting text from file in two different ways (text-extract and parsing)"
   ]
  },
  {
   "cell_type": "code",
   "execution_count": 1,
   "metadata": {},
   "outputs": [],
   "source": [
    "# prior PDF-treatment:\n",
    "# (important because different treatments can lead to different control elements in PDF-file\n",
    "#  to which the code below can react sensibly)\n",
    "# 1) Download file from DUS-Server\n",
    "# 2) Eliminate pages with Apple Preview\n",
    "# 3) Print edited PDF as PDF to Mac\n",
    "#   >> landscape pages are turned\n",
    "#   >> transfer to Windows via OneDrive\n",
    "# 4) Turning landscape pages back to horizontal orientation with XODO\n",
    "#   >> the parsing reacts to the orientation change, but not the text-extraction !\n",
    "\n",
    "# Alternative to steps 3) and 4) above:\n",
    "#   >> turn landscape pages directly in Mac Preview & safe !!\n",
    "#   >> this leads to the partly different control symbol structure between \"Ergebnis\" and \"Finanzplan\""
   ]
  },
  {
   "cell_type": "markdown",
   "metadata": {},
   "source": [
    "# 1) Package Import"
   ]
  },
  {
   "cell_type": "code",
   "execution_count": 2,
   "metadata": {},
   "outputs": [],
   "source": [
    "import pandas as pd"
   ]
  },
  {
   "cell_type": "code",
   "execution_count": 3,
   "metadata": {},
   "outputs": [],
   "source": [
    "import camelot"
   ]
  },
  {
   "cell_type": "code",
   "execution_count": 4,
   "metadata": {},
   "outputs": [],
   "source": [
    "import io\n",
    "from io import StringIO\n",
    "from pdfminer.converter import TextConverter\n",
    "from pdfminer.pdfinterp import PDFPageInterpreter\n",
    "from pdfminer.pdfinterp import PDFResourceManager\n",
    "from pdfminer.pdfpage import PDFPage\n",
    "######################################\n",
    "from pdfminer.layout import LAParams\n",
    "from pdfminer.pdfdocument import PDFDocument\n",
    "from pdfminer.pdfparser import PDFParser\n"
   ]
  },
  {
   "cell_type": "code",
   "execution_count": 5,
   "metadata": {},
   "outputs": [],
   "source": [
    "import re\n",
    "import xlsxwriter"
   ]
  },
  {
   "cell_type": "markdown",
   "metadata": {},
   "source": [
    "# 2) Variable declartations (global)"
   ]
  },
  {
   "cell_type": "code",
   "execution_count": 6,
   "metadata": {},
   "outputs": [],
   "source": [
    "#####################################################################\n",
    "s_filepath = 'haushaltsplan_2020_mac_pdf_export_landscape.pdf'\n",
    "####################################################################"
   ]
  },
  {
   "cell_type": "code",
   "execution_count": null,
   "metadata": {},
   "outputs": [],
   "source": []
  },
  {
   "cell_type": "code",
   "execution_count": 7,
   "metadata": {},
   "outputs": [],
   "source": [
    "l_control_table_cols = ['SeitenNr', 'DezNr', 'DezName', 'ProdNr', 'ProdName', 'PlanTyp']"
   ]
  },
  {
   "cell_type": "code",
   "execution_count": 8,
   "metadata": {},
   "outputs": [],
   "source": [
    "l_relevante_seiten = ['Teilergebnisplan', 'Teilfinanzplan']"
   ]
  },
  {
   "cell_type": "code",
   "execution_count": 9,
   "metadata": {},
   "outputs": [],
   "source": [
    "########################################################################################################\n",
    "# >> must be adjusted for extractions of different periods aka when reading file from different years!!!\n",
    "########################################################################################################\n",
    "\n",
    "# needed during the data enrichment process in order to mark the status for a given year\n",
    "d_year_status = {'2018': 'IST', '2019': 'HH-Ansatz', '2020': 'HH-Ansatz', '2021': 'FinanzP',\n",
    "                 '2022': 'FinanzP', '2022': 'FinanzP'}\n",
    "\n",
    "# similar need for adjustement: the dictionary to stick the right year label to columns extracted from tables\n",
    "d_year_col_rename = {0:'LfdNr', 1:'Position', 2:'2018', 3: '2019', 4:'2020', 5:'2021', 6: '2022', 7: '2023'}\n",
    "\n",
    "# df-structure of extracted data AFTER extraction and first enrichment\n",
    "# but BEFORE establishing pivoted & further enriched output dataframe\n",
    "l_extract_df = ['LfdNr', 'Position', '2018', '2019', '2020', '2021', '2022', '2023', 'DezNr', 'DezName',\n",
    "                'ProdNr', 'ProdName', 'PlanTyp', 'WertTyp']\n",
    "\n",
    "#########################################################################################################\n",
    "# re-arranging and indexing result df for final output:\n",
    "#########################################################################################################\n",
    "# list with re-arrange columns to create multi-index\n",
    "l_col_name_rearrange = ['LfdNr', 'DezNr', 'DezName', 'ProdNr', 'ProdName', 'PlanTyp', 'WertTyp', 'Position',\n",
    " '2018',\n",
    " '2019',\n",
    " '2020',\n",
    " '2021',\n",
    " '2022',\n",
    " '2023']\n",
    "# list as basis for MELT-operation\n",
    "l_col_melt_id_vars = ['LfdNr','DezNr','DezName','ProdNr','ProdName','PlanTyp','WertTyp','Position']\n",
    "l_col_melt_vars_names =  ['2018','2019','2020','2021','2022','2023']"
   ]
  },
  {
   "cell_type": "code",
   "execution_count": null,
   "metadata": {},
   "outputs": [],
   "source": []
  },
  {
   "cell_type": "code",
   "execution_count": null,
   "metadata": {},
   "outputs": [],
   "source": []
  },
  {
   "cell_type": "markdown",
   "metadata": {},
   "source": [
    "# 3) Definitions"
   ]
  },
  {
   "cell_type": "markdown",
   "metadata": {},
   "source": [
    "## 3a) Class definitions"
   ]
  },
  {
   "cell_type": "code",
   "execution_count": null,
   "metadata": {},
   "outputs": [],
   "source": []
  },
  {
   "cell_type": "markdown",
   "metadata": {},
   "source": [
    "## 3b) Function Definitions"
   ]
  },
  {
   "cell_type": "code",
   "execution_count": null,
   "metadata": {},
   "outputs": [],
   "source": []
  },
  {
   "cell_type": "code",
   "execution_count": 10,
   "metadata": {},
   "outputs": [],
   "source": [
    "def f_extract_text_by_page(pdf_path):\n",
    "    with open(pdf_path, 'rb') as fh:\n",
    "        for page in PDFPage.get_pages(fh, \n",
    "                                      caching=True,\n",
    "                                      check_extractable=True):\n",
    "            resource_manager = PDFResourceManager()\n",
    "            fake_file_handle = io.StringIO()\n",
    "            converter = TextConverter(resource_manager, fake_file_handle)\n",
    "            page_interpreter = PDFPageInterpreter(resource_manager, converter)\n",
    "            page_interpreter.process_page(page)\n",
    "            \n",
    "            text = fake_file_handle.getvalue()\n",
    "            yield text\n",
    "    \n",
    "            # close open handles\n",
    "            converter.close()\n",
    "            fake_file_handle.close()\n",
    "    "
   ]
  },
  {
   "cell_type": "code",
   "execution_count": 11,
   "metadata": {},
   "outputs": [],
   "source": [
    "def f_extract_text(pdf_path):\n",
    "    l_return = []\n",
    "    for page in f_extract_text_by_page(pdf_path):\n",
    "        l_return.append(page)\n",
    "        #print(page)\n",
    "\n",
    "    return l_return"
   ]
  },
  {
   "cell_type": "code",
   "execution_count": 12,
   "metadata": {},
   "outputs": [],
   "source": [
    "def f_parse_total_text (pdf_path):\n",
    "    output_string = StringIO()\n",
    "    with open(pdf_path, 'rb') as in_file:\n",
    "        parser = PDFParser(in_file)\n",
    "        doc = PDFDocument(parser)\n",
    "        rsrcmgr = PDFResourceManager()\n",
    "        device = TextConverter(rsrcmgr, output_string, laparams=LAParams())\n",
    "        interpreter = PDFPageInterpreter(rsrcmgr, device)\n",
    "        for page in PDFPage.create_pages(doc):\n",
    "            interpreter.process_page(page)\n",
    "\n",
    "    return output_string.getvalue()"
   ]
  },
  {
   "cell_type": "code",
   "execution_count": 13,
   "metadata": {},
   "outputs": [],
   "source": [
    "def f_pdf_table_extract (loop_idx, extract_page):\n",
    "\n",
    "    c_tables = camelot.read_pdf(s_filepath, pages = extract_page)\n",
    "    df_w1 = c_tables[0].df\n",
    "    # code to eliminate first row ! But needs to do copy to new df to make it permanent\n",
    "    df_w2 = df_w1[1:][:].copy()\n",
    "\n",
    "    # eliminating extra column from \"Verpflichtungserklärung\"\n",
    "    v_no_cols = len(list(df_w2.columns.values)) # determine number of columns  (should be 8 aka [0:7])\n",
    "    if v_no_cols > 8:\n",
    "        df_w2 = f_col_adj_ermaechtigung(df_w2)\n",
    "\n",
    "    # renaming columns with dictionary\n",
    "    df_w2.rename(columns = d_year_col_rename,inplace=True)\n",
    "\n",
    "    # Making things look nicer:\n",
    "    # clean '\\n' controls from \"Position\"-column (remains from PDF control codes)\n",
    "    df_w2['Position'] =  df_w2['Position'].apply(lambda x: re.sub(r'[\\n]',' ', str(x)))\n",
    "    df_w2.head(5)\n",
    "\n",
    "    # now enriching the table with the referential information from the control data frame !\n",
    "    df_w2['DezNr'] = df_extract_control['DezNr'][loop_idx]\n",
    "    df_w2['DezName'] = df_extract_control['DezName'][loop_idx]\n",
    "    df_w2['ProdNr'] = df_extract_control['ProdNr'][loop_idx]\n",
    "    df_w2['ProdName'] = df_extract_control['ProdName'][loop_idx]\n",
    "    df_w2['PlanTyp'] = df_extract_control['PlanTyp'][loop_idx]\n",
    "\n",
    "    # marking every value either as an atomic value or as a (sub-)total\n",
    "    # ONLY WORKS if all Positons are either marked with \"=\" (for calculation results)\n",
    "    # or '+' and '-' for atomic values\n",
    "    # this value does not come from the control structure put from the first \n",
    "    # character of the \"Position\"-string\n",
    "    df_w2['WertTyp'] =  df_w2['Position'].apply(lambda x: 'ERGEBNIS' if x[0] == \"=\" else 'WERT' )\n",
    "\n",
    "    return df_w2"
   ]
  },
  {
   "cell_type": "code",
   "execution_count": 14,
   "metadata": {},
   "outputs": [],
   "source": [
    "def f_col_adj_ermaechtigung (df):\n",
    "    #####################################################################\n",
    "    # if other / different columns suddenly show up, this part of code\n",
    "    # would eventually need to be adjusted; currently, it deleted an\n",
    "    # additional column after the current year, displaying a \"thereof\"-info, not the expexted 2021-values\n",
    "    #####################################################################\n",
    "    d_drop_col_rename = {5: 'dropcol'} \n",
    "    d_col_name_shift = {6: 5, 7: 6, 8: 7}\n",
    "    \n",
    "    df.rename(columns = d_drop_col_rename,inplace=True)\n",
    "    df = df.drop('dropcol', axis=1).copy()\n",
    "    df.rename(columns = d_col_name_shift,inplace=True)\n",
    "    \n",
    "    return df\n",
    "    "
   ]
  },
  {
   "cell_type": "markdown",
   "metadata": {},
   "source": [
    "# 4) Actual Program"
   ]
  },
  {
   "cell_type": "markdown",
   "metadata": {},
   "source": [
    "## 4a) Extract text from file from PDF"
   ]
  },
  {
   "cell_type": "code",
   "execution_count": 15,
   "metadata": {},
   "outputs": [],
   "source": [
    "# text file is used to establish a control data structure\n",
    "# that guides the subsequent table extraction"
   ]
  },
  {
   "cell_type": "code",
   "execution_count": 16,
   "metadata": {},
   "outputs": [
    {
     "data": {
      "text/plain": [
       "1267"
      ]
     },
     "execution_count": 16,
     "metadata": {},
     "output_type": "execute_result"
    }
   ],
   "source": [
    "# core page-by-page text extraction extraction !!!!\n",
    "\n",
    "l_pdf_text_extract_per_page = f_extract_text(s_filepath)\n",
    "\n",
    "len(l_pdf_text_extract_per_page)\n",
    "\n",
    "#for i in l_pdf_text_per_page:\n",
    "#    print (i)"
   ]
  },
  {
   "cell_type": "code",
   "execution_count": 17,
   "metadata": {},
   "outputs": [
    {
     "data": {
      "text/plain": [
       "1267"
      ]
     },
     "execution_count": 17,
     "metadata": {},
     "output_type": "execute_result"
    }
   ],
   "source": [
    "# Alternative approach:\n",
    "# parsing instead of extracting entire text\n",
    "# text extraction worked with two-layered approach: 1st loop (function call) calls the entire document,\n",
    "# the second loop (function call) cycles thru the single pages of the document to that the result is already\n",
    "# returned on a per-page basis in the result list\n",
    "# The parsing approach goes the other way around: the entire document with all pages is parsed in one go\n",
    "# and then the pages seperated via a split of the return string.\n",
    " \n",
    "s_aux = f_parse_total_text(s_filepath)\n",
    "\n",
    "# because the entire document was parsed, the single long return string needs\n",
    "# to be split into a list per page; '\\X0C' seems to be the PDF control sequence for a page change\n",
    "l_pdf_text_parse_per_page = s_aux.split(\"\\x0c\")\n",
    "\n",
    "# delete last item from list to make it same length\n",
    "# last list item is only an empty page, because the split-method encounters a last \"\\x0c\"\n",
    "del l_pdf_text_parse_per_page[-1]\n",
    "len(l_pdf_text_parse_per_page)"
   ]
  },
  {
   "cell_type": "code",
   "execution_count": 18,
   "metadata": {},
   "outputs": [],
   "source": [
    "# result so far: we have two list with each element of the list corresponding to the text of one single\n",
    "# pdf page of the source pdf file; the difference between the two is that the \"text_extract\"-list only\n",
    "# contains the pure text with no control characters whereas the \"text_parse\"-list has also parsed the\n",
    "# control strings into the string list-element.\n",
    "# Funnily enough, the sequence in which the string records the data from the PDF varies slightly between\n",
    "# the two methods. E.g. \"vorläufiges JahresergebnisHaushaltsansatzFinanzplanzeitraum\" is in a different \n",
    "# position"
   ]
  },
  {
   "cell_type": "code",
   "execution_count": 19,
   "metadata": {},
   "outputs": [
    {
     "data": {
      "text/plain": [
       "'TeilfinanzplanDEZ02Dezernat 021111107BgA PersonengesellschaftenJahresergebnisHaushaltsansatzVerpflichtungs-ermächtigungFinanzplanzeitraumNr.BezeichnungInvestitionstätigkeiten2018201920202021202220231+Einzahlungen aus Zuwendungen für Investitionsmaßnahmen0,000000002+Einzahlungen aus der Veräußerung von Sachanlagen0,000000003+Einzahlungen aus der Veräußerung von Finanzanlagen0,000000004+Einzahlungen aus Beiträgen u.ä. Entgelten0,000000005+Sonstige Investitionseinzahlungen0,000000006=Einzahlungen aus Investitionstätigkeit0,000000007-Auszahlungen für den Erwerb von Grundstücken und Gebäuden0,000000008-Auszahlungen für Baumaßnahmen0,000000009-Auszahlungen für den Erwerb von beweglichem Anlagevermögen0,0000000010-Auszahlungen für den Erwerb von Finanzanlagen0,0000000011-Auszahlungen von aktivierbaren Zuwendungen0,0000000012-Sonstige Investitionsauszahlungen0,0000000013=Auszahlungen aus Investitionstätigkeit0,0000000014=Saldo aus Investitionstätigkeit Summe0,00000000\\x0c'"
      ]
     },
     "execution_count": 19,
     "metadata": {},
     "output_type": "execute_result"
    }
   ],
   "source": [
    "### Important control code if anything goes wrong wiht the PDF interpretation\n",
    "i = 134\n",
    "l_pdf_text_extract_per_page[i]"
   ]
  },
  {
   "cell_type": "code",
   "execution_count": 20,
   "metadata": {},
   "outputs": [
    {
     "data": {
      "text/plain": [
       "'Teilfinanzplan\\nDEZ02\\n1111107\\n\\nNr. Bezeichnung\\n\\nDezernat 02\\nBgA Personengesellschaften\\n\\nInvestitionstätigkeiten\\n+ Einzahlungen aus Zuwendungen für Investitionsmaßnahmen\\n+ Einzahlungen aus der Veräußerung von Sachanlagen\\n+ Einzahlungen aus der Veräußerung von Finanzanlagen\\n+ Einzahlungen aus Beiträgen u.ä. Entgelten\\n+ Sonstige Investitionseinzahlungen\\n= Einzahlungen aus Investitionstätigkeit\\n- Auszahlungen für den Erwerb von Grundstücken und Gebäuden\\n- Auszahlungen für Baumaßnahmen\\n- Auszahlungen für den Erwerb von beweglichem \\n\\nAnlagevermögen\\n\\n- Auszahlungen für den Erwerb von Finanzanlagen\\n- Auszahlungen von aktivierbaren Zuwendungen\\n- Sonstige Investitionsauszahlungen\\n= Auszahlungen aus Investitionstätigkeit\\n= Saldo aus Investitionstätigkeit Summe\\n\\n1\\n2\\n3\\n4\\n5\\n6\\n7\\n8\\n9\\n\\n10\\n11\\n12\\n13\\n14\\n\\nJahresergebnis\\n2018\\n\\nHaushaltsansatz\\n2019\\n\\n2020\\n\\nVerpflichtungs-\\nermächtigung\\n\\nFinanzplanzeitraum\\n\\n2021\\n\\n2022\\n\\n2023\\n\\n0,00\\n0,00\\n0,00\\n0,00\\n0,00\\n0,00\\n0,00\\n0,00\\n0,00\\n\\n0,00\\n0,00\\n0,00\\n0,00\\n0,00\\n\\n0\\n0\\n0\\n0\\n0\\n0\\n0\\n0\\n0\\n\\n0\\n0\\n0\\n0\\n0\\n\\n0\\n0\\n0\\n0\\n0\\n0\\n0\\n0\\n0\\n\\n0\\n0\\n0\\n0\\n0\\n\\n0\\n0\\n0\\n0\\n0\\n0\\n0\\n0\\n0\\n\\n0\\n0\\n0\\n0\\n0\\n\\n0\\n0\\n0\\n0\\n0\\n0\\n0\\n0\\n0\\n\\n0\\n0\\n0\\n0\\n0\\n\\n0\\n0\\n0\\n0\\n0\\n0\\n0\\n0\\n0\\n\\n0\\n0\\n0\\n0\\n0\\n\\n0\\n0\\n0\\n0\\n0\\n0\\n0\\n0\\n0\\n\\n0\\n0\\n0\\n0\\n0\\n\\n'"
      ]
     },
     "execution_count": 20,
     "metadata": {},
     "output_type": "execute_result"
    }
   ],
   "source": [
    "l_pdf_text_parse_per_page[i]"
   ]
  },
  {
   "cell_type": "code",
   "execution_count": 21,
   "metadata": {},
   "outputs": [],
   "source": [
    "# SAME structure\n",
    "# 'Teilergebnisplan\\nDEZ02\\n1111107\\n\\nDezernat 02\\nBgA Personengesellschaften\\n\\nNr. Bezeichnung\\n1\\\n",
    "# 'Teilfinanzplan\\nDEZ02\\n1111107\\n\\nDezernat 02\\nBgA Personengesellschaften\\n\\nNr. Bezeichnung\\n\n",
    "\n",
    "# DIFFERENT struture\n",
    "# 'Teilergebnisplan\\nDEZ01\\n1111101\\n\\nDezernat 01\\nÖffentlichkeitsarbeit\\n\\nNr. Bezeichnung\n",
    "# 'Teilfinanzplan\\nDEZ01\\n1111101\\n\\nNr. Bezeichnung\\n\\nDezernat 01\\nÖffentlichkeitsarbeit\\n\n",
    "\n",
    "\n",
    "#>>>> adapt code in long loop (if/else-structure)> for i in range(len(l_criteria_ctrl_list))"
   ]
  },
  {
   "cell_type": "markdown",
   "metadata": {},
   "source": [
    "## 4b) Establish controle structure to manage the table extraction"
   ]
  },
  {
   "cell_type": "code",
   "execution_count": 22,
   "metadata": {},
   "outputs": [],
   "source": [
    "# get control structure in two different formats, list and dataframe, and initialize\n",
    "# the two result variables as empty variables\n",
    "df_extract_control = pd.DataFrame(columns = l_control_table_cols)\n",
    "l_extract_ctrl = []"
   ]
  },
  {
   "cell_type": "code",
   "execution_count": 23,
   "metadata": {},
   "outputs": [
    {
     "data": {
      "text/html": [
       "<div>\n",
       "<style scoped>\n",
       "    .dataframe tbody tr th:only-of-type {\n",
       "        vertical-align: middle;\n",
       "    }\n",
       "\n",
       "    .dataframe tbody tr th {\n",
       "        vertical-align: top;\n",
       "    }\n",
       "\n",
       "    .dataframe thead th {\n",
       "        text-align: right;\n",
       "    }\n",
       "</style>\n",
       "<table border=\"1\" class=\"dataframe\">\n",
       "  <thead>\n",
       "    <tr style=\"text-align: right;\">\n",
       "      <th></th>\n",
       "      <th>SeitenNr</th>\n",
       "      <th>DezNr</th>\n",
       "      <th>DezName</th>\n",
       "      <th>ProdNr</th>\n",
       "      <th>ProdName</th>\n",
       "      <th>PlanTyp</th>\n",
       "    </tr>\n",
       "  </thead>\n",
       "  <tbody>\n",
       "  </tbody>\n",
       "</table>\n",
       "</div>"
      ],
      "text/plain": [
       "Empty DataFrame\n",
       "Columns: [SeitenNr, DezNr, DezName, ProdNr, ProdName, PlanTyp]\n",
       "Index: []"
      ]
     },
     "execution_count": 23,
     "metadata": {},
     "output_type": "execute_result"
    }
   ],
   "source": [
    "df_extract_control.head(3)"
   ]
  },
  {
   "cell_type": "code",
   "execution_count": 24,
   "metadata": {},
   "outputs": [],
   "source": [
    "# extract list \n",
    "l_criteria_ctrl_list = []\n",
    "for element in l_pdf_text_parse_per_page:\n",
    "    # The first elements contain the \"pay load info\" of the page which helps to determin \n",
    "    # if a page has relevant tables to extract (only \"Teilergebnisplan\" and \"Finanzergebnisplan\")\n",
    "    l_criteria_ctrl_list.append(element.split(\"\\n\")[:8])\n",
    "# print (l_criteria_ctrl_list)"
   ]
  },
  {
   "cell_type": "code",
   "execution_count": 25,
   "metadata": {},
   "outputs": [],
   "source": [
    "for i in range(len(l_criteria_ctrl_list)):\n",
    "    l_ctrl = [] # initiate the ctrl list\n",
    "    # check for relevant page title (see variable definition)\n",
    "    if l_criteria_ctrl_list[i][0] not in l_relevante_seiten:\n",
    "        continue\n",
    "\n",
    "    # check if the 3rd position is numeric; pages for the entire Dezernat do NOT carry\n",
    "    # a numeric information in 3rd place, as they do not show a product number\n",
    "    elif l_criteria_ctrl_list[i][2].isnumeric() != True:\n",
    "        continue\n",
    "\n",
    "    else:\n",
    "        # Only relevant pages come to this point here; so now it's time to collect the \n",
    "        # \"payload info\", aka the relevant information to manage and control the table extraction\n",
    "        # Seiten-Zahl\n",
    "        l_ctrl.append(str(i+1))\n",
    "        # Dezernatsnummer\n",
    "        l_ctrl.append(l_criteria_ctrl_list[i][1])\n",
    "\n",
    "        # Derzernatsnamen (last PDF used showed slight difference in parsing result of both plans)\n",
    "        # Differences can be easily identified by looking at the details of l_pdf_text_parse_per_page[i]\n",
    "        # for several index values\n",
    "        if l_criteria_ctrl_list[i][0] == 'Teilergebnisplan':\n",
    "            l_ctrl.append(l_criteria_ctrl_list[i][4])\n",
    "        else:\n",
    "            l_ctrl.append(l_criteria_ctrl_list[i][6]) # changed from '6' in earlier PDF\n",
    "        # Produktnummer\n",
    "        l_ctrl.append(l_criteria_ctrl_list[i][2])\n",
    "\n",
    "        # Produktnamen (last PDF used showed slight difference in parsing result of both plans)\n",
    "        if l_criteria_ctrl_list[i][0] == 'Teilergebnisplan':\n",
    "            l_ctrl.append(l_criteria_ctrl_list[i][5])\n",
    "        else:\n",
    "            l_ctrl.append(l_criteria_ctrl_list[i][7]) # changed from '7' in earlier PDF       \n",
    " \n",
    "        # PlanType\n",
    "        l_ctrl.append(l_criteria_ctrl_list[i][0])        \n",
    "        \n",
    "        \n",
    "        # Get control info in two different formats:\n",
    "        # format 1: list\n",
    "        l_extract_ctrl.append(l_ctrl)    # get control output for all relevant pages as list\n",
    "\n",
    "        # format 2:...and get control output for all relevant pages also as dataframe\n",
    "        d_ctrl = dict(zip(l_control_table_cols, l_ctrl))\n",
    "        # print(d_response)\n",
    "        df_extract_control = df_extract_control.append(d_ctrl, ignore_index = True)"
   ]
  },
  {
   "cell_type": "code",
   "execution_count": 26,
   "metadata": {},
   "outputs": [
    {
     "data": {
      "text/html": [
       "<div>\n",
       "<style scoped>\n",
       "    .dataframe tbody tr th:only-of-type {\n",
       "        vertical-align: middle;\n",
       "    }\n",
       "\n",
       "    .dataframe tbody tr th {\n",
       "        vertical-align: top;\n",
       "    }\n",
       "\n",
       "    .dataframe thead th {\n",
       "        text-align: right;\n",
       "    }\n",
       "</style>\n",
       "<table border=\"1\" class=\"dataframe\">\n",
       "  <thead>\n",
       "    <tr style=\"text-align: right;\">\n",
       "      <th></th>\n",
       "      <th>SeitenNr</th>\n",
       "      <th>DezNr</th>\n",
       "      <th>DezName</th>\n",
       "      <th>ProdNr</th>\n",
       "      <th>ProdName</th>\n",
       "      <th>PlanTyp</th>\n",
       "    </tr>\n",
       "  </thead>\n",
       "  <tbody>\n",
       "    <tr>\n",
       "      <th>0</th>\n",
       "      <td>87</td>\n",
       "      <td>DEZ01</td>\n",
       "      <td>Dezernat 01</td>\n",
       "      <td>1111101</td>\n",
       "      <td>Öffentlichkeitsarbeit</td>\n",
       "      <td>Teilergebnisplan</td>\n",
       "    </tr>\n",
       "    <tr>\n",
       "      <th>1</th>\n",
       "      <td>88</td>\n",
       "      <td>DEZ01</td>\n",
       "      <td>Dezernat 01</td>\n",
       "      <td>1111101</td>\n",
       "      <td>Öffentlichkeitsarbeit</td>\n",
       "      <td>Teilfinanzplan</td>\n",
       "    </tr>\n",
       "    <tr>\n",
       "      <th>2</th>\n",
       "      <td>94</td>\n",
       "      <td>DEZ01</td>\n",
       "      <td>Dezernat 01</td>\n",
       "      <td>1111114</td>\n",
       "      <td>Betreuung der Bezirksvertretungen</td>\n",
       "      <td>Teilergebnisplan</td>\n",
       "    </tr>\n",
       "    <tr>\n",
       "      <th>3</th>\n",
       "      <td>95</td>\n",
       "      <td>DEZ01</td>\n",
       "      <td>Dezernat 01</td>\n",
       "      <td>1111114</td>\n",
       "      <td>Betreuung der Bezirksvertretungen</td>\n",
       "      <td>Teilfinanzplan</td>\n",
       "    </tr>\n",
       "    <tr>\n",
       "      <th>4</th>\n",
       "      <td>100</td>\n",
       "      <td>DEZ01</td>\n",
       "      <td>Dezernat 01</td>\n",
       "      <td>1111115</td>\n",
       "      <td>Verwaltungs- und Konzernführung</td>\n",
       "      <td>Teilergebnisplan</td>\n",
       "    </tr>\n",
       "    <tr>\n",
       "      <th>5</th>\n",
       "      <td>101</td>\n",
       "      <td>DEZ01</td>\n",
       "      <td>Dezernat 01</td>\n",
       "      <td>1111115</td>\n",
       "      <td>Verwaltungs- und Konzernführung</td>\n",
       "      <td>Teilfinanzplan</td>\n",
       "    </tr>\n",
       "    <tr>\n",
       "      <th>6</th>\n",
       "      <td>106</td>\n",
       "      <td>DEZ01</td>\n",
       "      <td>Dezernat 01</td>\n",
       "      <td>1111123</td>\n",
       "      <td>Fraktionen</td>\n",
       "      <td>Teilergebnisplan</td>\n",
       "    </tr>\n",
       "    <tr>\n",
       "      <th>7</th>\n",
       "      <td>107</td>\n",
       "      <td>DEZ01</td>\n",
       "      <td>Dezernat 01</td>\n",
       "      <td>1111123</td>\n",
       "      <td>Fraktionen</td>\n",
       "      <td>Teilfinanzplan</td>\n",
       "    </tr>\n",
       "    <tr>\n",
       "      <th>8</th>\n",
       "      <td>112</td>\n",
       "      <td>DEZ01</td>\n",
       "      <td>Dezernat 01</td>\n",
       "      <td>5353601</td>\n",
       "      <td>Breitbandversorgung</td>\n",
       "      <td>Teilergebnisplan</td>\n",
       "    </tr>\n",
       "    <tr>\n",
       "      <th>9</th>\n",
       "      <td>113</td>\n",
       "      <td>DEZ01</td>\n",
       "      <td>Dezernat 01</td>\n",
       "      <td>5353601</td>\n",
       "      <td>Breitbandversorgung</td>\n",
       "      <td>Teilfinanzplan</td>\n",
       "    </tr>\n",
       "    <tr>\n",
       "      <th>10</th>\n",
       "      <td>119</td>\n",
       "      <td>DEZ01</td>\n",
       "      <td>Dezernat 01</td>\n",
       "      <td>5757101</td>\n",
       "      <td>Wirtschaftsförd./BgA CKZ / Stadtw / Vst</td>\n",
       "      <td>Teilergebnisplan</td>\n",
       "    </tr>\n",
       "    <tr>\n",
       "      <th>11</th>\n",
       "      <td>120</td>\n",
       "      <td>DEZ01</td>\n",
       "      <td>Dezernat 01</td>\n",
       "      <td>5757101</td>\n",
       "      <td>Wirtschaftsförd./BgA CKZ / Stadtw / Vst</td>\n",
       "      <td>Teilfinanzplan</td>\n",
       "    </tr>\n",
       "  </tbody>\n",
       "</table>\n",
       "</div>"
      ],
      "text/plain": [
       "   SeitenNr  DezNr      DezName   ProdNr  \\\n",
       "0        87  DEZ01  Dezernat 01  1111101   \n",
       "1        88  DEZ01  Dezernat 01  1111101   \n",
       "2        94  DEZ01  Dezernat 01  1111114   \n",
       "3        95  DEZ01  Dezernat 01  1111114   \n",
       "4       100  DEZ01  Dezernat 01  1111115   \n",
       "5       101  DEZ01  Dezernat 01  1111115   \n",
       "6       106  DEZ01  Dezernat 01  1111123   \n",
       "7       107  DEZ01  Dezernat 01  1111123   \n",
       "8       112  DEZ01  Dezernat 01  5353601   \n",
       "9       113  DEZ01  Dezernat 01  5353601   \n",
       "10      119  DEZ01  Dezernat 01  5757101   \n",
       "11      120  DEZ01  Dezernat 01  5757101   \n",
       "\n",
       "                                   ProdName           PlanTyp  \n",
       "0                     Öffentlichkeitsarbeit  Teilergebnisplan  \n",
       "1                     Öffentlichkeitsarbeit    Teilfinanzplan  \n",
       "2         Betreuung der Bezirksvertretungen  Teilergebnisplan  \n",
       "3         Betreuung der Bezirksvertretungen    Teilfinanzplan  \n",
       "4           Verwaltungs- und Konzernführung  Teilergebnisplan  \n",
       "5           Verwaltungs- und Konzernführung    Teilfinanzplan  \n",
       "6                                Fraktionen  Teilergebnisplan  \n",
       "7                                Fraktionen    Teilfinanzplan  \n",
       "8                       Breitbandversorgung  Teilergebnisplan  \n",
       "9                       Breitbandversorgung    Teilfinanzplan  \n",
       "10  Wirtschaftsförd./BgA CKZ / Stadtw / Vst  Teilergebnisplan  \n",
       "11  Wirtschaftsförd./BgA CKZ / Stadtw / Vst    Teilfinanzplan  "
      ]
     },
     "execution_count": 26,
     "metadata": {},
     "output_type": "execute_result"
    }
   ],
   "source": [
    "df_extract_control.head(12)\n",
    "#l_extract_ctrl"
   ]
  },
  {
   "cell_type": "code",
   "execution_count": 27,
   "metadata": {},
   "outputs": [
    {
     "data": {
      "text/plain": [
       "364"
      ]
     },
     "execution_count": 27,
     "metadata": {},
     "output_type": "execute_result"
    }
   ],
   "source": [
    "len(df_extract_control)"
   ]
  },
  {
   "cell_type": "code",
   "execution_count": 28,
   "metadata": {},
   "outputs": [
    {
     "data": {
      "text/plain": [
       "364"
      ]
     },
     "execution_count": 28,
     "metadata": {},
     "output_type": "execute_result"
    }
   ],
   "source": [
    "len(l_extract_ctrl)"
   ]
  },
  {
   "cell_type": "markdown",
   "metadata": {},
   "source": [
    "## 4c) Actual Table extraction (and refinement) based on control structure"
   ]
  },
  {
   "cell_type": "code",
   "execution_count": 29,
   "metadata": {},
   "outputs": [],
   "source": [
    "#######################################################\n",
    "# Loop mit Extraktion der festgestellten relevanten Seiten mittels Camelot-Package\n",
    "#######################################################"
   ]
  },
  {
   "cell_type": "code",
   "execution_count": 30,
   "metadata": {},
   "outputs": [
    {
     "data": {
      "text/html": [
       "<div>\n",
       "<style scoped>\n",
       "    .dataframe tbody tr th:only-of-type {\n",
       "        vertical-align: middle;\n",
       "    }\n",
       "\n",
       "    .dataframe tbody tr th {\n",
       "        vertical-align: top;\n",
       "    }\n",
       "\n",
       "    .dataframe thead th {\n",
       "        text-align: right;\n",
       "    }\n",
       "</style>\n",
       "<table border=\"1\" class=\"dataframe\">\n",
       "  <thead>\n",
       "    <tr style=\"text-align: right;\">\n",
       "      <th></th>\n",
       "      <th>LfdNr</th>\n",
       "      <th>Position</th>\n",
       "      <th>2018</th>\n",
       "      <th>2019</th>\n",
       "      <th>2020</th>\n",
       "      <th>2021</th>\n",
       "      <th>2022</th>\n",
       "      <th>2023</th>\n",
       "      <th>DezNr</th>\n",
       "      <th>DezName</th>\n",
       "      <th>ProdNr</th>\n",
       "      <th>ProdName</th>\n",
       "      <th>PlanTyp</th>\n",
       "      <th>WertTyp</th>\n",
       "    </tr>\n",
       "  </thead>\n",
       "  <tbody>\n",
       "  </tbody>\n",
       "</table>\n",
       "</div>"
      ],
      "text/plain": [
       "Empty DataFrame\n",
       "Columns: [LfdNr, Position, 2018, 2019, 2020, 2021, 2022, 2023, DezNr, DezName, ProdNr, ProdName, PlanTyp, WertTyp]\n",
       "Index: []"
      ]
     },
     "execution_count": 30,
     "metadata": {},
     "output_type": "execute_result"
    }
   ],
   "source": [
    "df_out1 = pd.DataFrame(columns = l_extract_df)\n",
    "df_out1.head(1)"
   ]
  },
  {
   "cell_type": "code",
   "execution_count": 31,
   "metadata": {},
   "outputs": [],
   "source": [
    "# core loop to cycle thru all relevant pages stored in the control structure\n",
    "for p in range(len(df_extract_control)):\n",
    "    v_page = df_extract_control['SeitenNr'][p]\n",
    "    df_out1 = pd.concat([df_out1, f_pdf_table_extract(p, v_page)], axis=0) # function needs\n",
    "    # both the page-no. String AND the idx of the loop to retrieve info from the control strucure"
   ]
  },
  {
   "cell_type": "markdown",
   "metadata": {},
   "source": [
    "## 4d) Final data processing (long format) and enhancement before outpu"
   ]
  },
  {
   "cell_type": "code",
   "execution_count": 32,
   "metadata": {},
   "outputs": [
    {
     "data": {
      "text/html": [
       "<div>\n",
       "<style scoped>\n",
       "    .dataframe tbody tr th:only-of-type {\n",
       "        vertical-align: middle;\n",
       "    }\n",
       "\n",
       "    .dataframe tbody tr th {\n",
       "        vertical-align: top;\n",
       "    }\n",
       "\n",
       "    .dataframe thead th {\n",
       "        text-align: right;\n",
       "    }\n",
       "</style>\n",
       "<table border=\"1\" class=\"dataframe\">\n",
       "  <thead>\n",
       "    <tr style=\"text-align: right;\">\n",
       "      <th></th>\n",
       "      <th>LfdNr</th>\n",
       "      <th>DezNr</th>\n",
       "      <th>DezName</th>\n",
       "      <th>ProdNr</th>\n",
       "      <th>ProdName</th>\n",
       "      <th>PlanTyp</th>\n",
       "      <th>WertTyp</th>\n",
       "      <th>Position</th>\n",
       "      <th>2018</th>\n",
       "      <th>2019</th>\n",
       "      <th>2020</th>\n",
       "      <th>2021</th>\n",
       "      <th>2022</th>\n",
       "      <th>2023</th>\n",
       "    </tr>\n",
       "  </thead>\n",
       "  <tbody>\n",
       "    <tr>\n",
       "      <th>0</th>\n",
       "      <td>1</td>\n",
       "      <td>DEZ01</td>\n",
       "      <td>Dezernat 01</td>\n",
       "      <td>1111101</td>\n",
       "      <td>Öffentlichkeitsarbeit</td>\n",
       "      <td>Teilergebnisplan</td>\n",
       "      <td>WERT</td>\n",
       "      <td>+ Steuern und ähnliche Abgaben</td>\n",
       "      <td>0,00</td>\n",
       "      <td>0</td>\n",
       "      <td>0</td>\n",
       "      <td>0</td>\n",
       "      <td>0</td>\n",
       "      <td>0</td>\n",
       "    </tr>\n",
       "    <tr>\n",
       "      <th>1</th>\n",
       "      <td>2</td>\n",
       "      <td>DEZ01</td>\n",
       "      <td>Dezernat 01</td>\n",
       "      <td>1111101</td>\n",
       "      <td>Öffentlichkeitsarbeit</td>\n",
       "      <td>Teilergebnisplan</td>\n",
       "      <td>WERT</td>\n",
       "      <td>+ Zuwendungen und allgemeine Umlagen</td>\n",
       "      <td>3.823,36</td>\n",
       "      <td>3.451</td>\n",
       "      <td>3.800</td>\n",
       "      <td>1.500</td>\n",
       "      <td>300</td>\n",
       "      <td>300</td>\n",
       "    </tr>\n",
       "  </tbody>\n",
       "</table>\n",
       "</div>"
      ],
      "text/plain": [
       "  LfdNr  DezNr      DezName   ProdNr               ProdName           PlanTyp  \\\n",
       "0     1  DEZ01  Dezernat 01  1111101  Öffentlichkeitsarbeit  Teilergebnisplan   \n",
       "1     2  DEZ01  Dezernat 01  1111101  Öffentlichkeitsarbeit  Teilergebnisplan   \n",
       "\n",
       "  WertTyp                              Position      2018   2019   2020  \\\n",
       "0    WERT        + Steuern und ähnliche Abgaben      0,00      0      0   \n",
       "1    WERT  + Zuwendungen und allgemeine Umlagen  3.823,36  3.451  3.800   \n",
       "\n",
       "    2021 2022 2023  \n",
       "0      0    0    0  \n",
       "1  1.500  300  300  "
      ]
     },
     "execution_count": 32,
     "metadata": {},
     "output_type": "execute_result"
    }
   ],
   "source": [
    "# resetting index\n",
    "df_out1.reset_index(inplace = True, drop = True)\n",
    "# and now rearrange the columns in more human-readable sequence\n",
    "df_out1 = df_out1[l_col_name_rearrange].copy()\n",
    "df_out1.head(2)"
   ]
  },
  {
   "cell_type": "code",
   "execution_count": 33,
   "metadata": {},
   "outputs": [],
   "source": [
    "# Establish long format by using MELT on the dataframe\n",
    "df_out2 = pd.melt(df_out1, id_vars = l_col_melt_id_vars, value_vars = l_col_melt_vars_names, \n",
    "        var_name = \"Jahr\", value_name='EUR')\n",
    "#df_out2.head(2)"
   ]
  },
  {
   "cell_type": "code",
   "execution_count": 34,
   "metadata": {},
   "outputs": [],
   "source": [
    "df_out2['PlanVersion'] = 'DUS_HHP_20'"
   ]
  },
  {
   "cell_type": "code",
   "execution_count": 35,
   "metadata": {},
   "outputs": [
    {
     "data": {
      "text/html": [
       "<div>\n",
       "<style scoped>\n",
       "    .dataframe tbody tr th:only-of-type {\n",
       "        vertical-align: middle;\n",
       "    }\n",
       "\n",
       "    .dataframe tbody tr th {\n",
       "        vertical-align: top;\n",
       "    }\n",
       "\n",
       "    .dataframe thead th {\n",
       "        text-align: right;\n",
       "    }\n",
       "</style>\n",
       "<table border=\"1\" class=\"dataframe\">\n",
       "  <thead>\n",
       "    <tr style=\"text-align: right;\">\n",
       "      <th></th>\n",
       "      <th>LfdNr</th>\n",
       "      <th>DezNr</th>\n",
       "      <th>DezName</th>\n",
       "      <th>ProdNr</th>\n",
       "      <th>ProdName</th>\n",
       "      <th>PlanTyp</th>\n",
       "      <th>WertTyp</th>\n",
       "      <th>Position</th>\n",
       "      <th>Jahr</th>\n",
       "      <th>EUR</th>\n",
       "      <th>PlanVersion</th>\n",
       "    </tr>\n",
       "  </thead>\n",
       "  <tbody>\n",
       "    <tr>\n",
       "      <th>0</th>\n",
       "      <td>1</td>\n",
       "      <td>DEZ01</td>\n",
       "      <td>Dezernat 01</td>\n",
       "      <td>1111101</td>\n",
       "      <td>Öffentlichkeitsarbeit</td>\n",
       "      <td>Teilergebnisplan</td>\n",
       "      <td>WERT</td>\n",
       "      <td>+ Steuern und ähnliche Abgaben</td>\n",
       "      <td>2018</td>\n",
       "      <td>0,00</td>\n",
       "      <td>DUS_HHP_20</td>\n",
       "    </tr>\n",
       "    <tr>\n",
       "      <th>1</th>\n",
       "      <td>2</td>\n",
       "      <td>DEZ01</td>\n",
       "      <td>Dezernat 01</td>\n",
       "      <td>1111101</td>\n",
       "      <td>Öffentlichkeitsarbeit</td>\n",
       "      <td>Teilergebnisplan</td>\n",
       "      <td>WERT</td>\n",
       "      <td>+ Zuwendungen und allgemeine Umlagen</td>\n",
       "      <td>2018</td>\n",
       "      <td>3.823,36</td>\n",
       "      <td>DUS_HHP_20</td>\n",
       "    </tr>\n",
       "  </tbody>\n",
       "</table>\n",
       "</div>"
      ],
      "text/plain": [
       "  LfdNr  DezNr      DezName   ProdNr               ProdName           PlanTyp  \\\n",
       "0     1  DEZ01  Dezernat 01  1111101  Öffentlichkeitsarbeit  Teilergebnisplan   \n",
       "1     2  DEZ01  Dezernat 01  1111101  Öffentlichkeitsarbeit  Teilergebnisplan   \n",
       "\n",
       "  WertTyp                              Position  Jahr       EUR PlanVersion  \n",
       "0    WERT        + Steuern und ähnliche Abgaben  2018      0,00  DUS_HHP_20  \n",
       "1    WERT  + Zuwendungen und allgemeine Umlagen  2018  3.823,36  DUS_HHP_20  "
      ]
     },
     "execution_count": 35,
     "metadata": {},
     "output_type": "execute_result"
    }
   ],
   "source": [
    "df_out2.head(2)"
   ]
  },
  {
   "cell_type": "code",
   "execution_count": 36,
   "metadata": {},
   "outputs": [],
   "source": [
    "writer = pd.ExcelWriter('_HH_DUS_vollstaendig_test.xlsx', engine='xlsxwriter')\n",
    "df_out1.to_excel(writer, sheet_name='wide_data', engine='xlsxwriter')\n",
    "df_out2.to_excel(writer, sheet_name='long_data', engine='xlsxwriter')\n",
    "writer.save()"
   ]
  },
  {
   "cell_type": "code",
   "execution_count": null,
   "metadata": {},
   "outputs": [],
   "source": []
  },
  {
   "cell_type": "code",
   "execution_count": null,
   "metadata": {},
   "outputs": [],
   "source": []
  },
  {
   "cell_type": "code",
   "execution_count": null,
   "metadata": {},
   "outputs": [],
   "source": []
  },
  {
   "cell_type": "code",
   "execution_count": null,
   "metadata": {},
   "outputs": [],
   "source": []
  },
  {
   "cell_type": "code",
   "execution_count": null,
   "metadata": {},
   "outputs": [],
   "source": []
  },
  {
   "cell_type": "code",
   "execution_count": null,
   "metadata": {},
   "outputs": [],
   "source": []
  }
 ],
 "metadata": {
  "kernelspec": {
   "display_name": "ds_ws_04",
   "language": "python",
   "name": "ds_ws_04"
  },
  "language_info": {
   "codemirror_mode": {
    "name": "ipython",
    "version": 3
   },
   "file_extension": ".py",
   "mimetype": "text/x-python",
   "name": "python",
   "nbconvert_exporter": "python",
   "pygments_lexer": "ipython3",
   "version": "3.7.3"
  }
 },
 "nbformat": 4,
 "nbformat_minor": 2
}
